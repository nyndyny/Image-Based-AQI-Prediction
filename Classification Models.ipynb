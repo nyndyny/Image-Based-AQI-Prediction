{
 "cells": [
  {
   "cell_type": "code",
   "execution_count": 1,
   "id": "53ae0bf0",
   "metadata": {
    "scrolled": false
   },
   "outputs": [
    {
     "name": "stdout",
     "output_type": "stream",
     "text": [
      "WARNING:tensorflow:From C:\\Users\\nandi\\anaconda3\\Lib\\site-packages\\keras\\src\\losses.py:2976: The name tf.losses.sparse_softmax_cross_entropy is deprecated. Please use tf.compat.v1.losses.sparse_softmax_cross_entropy instead.\n",
      "\n"
     ]
    }
   ],
   "source": [
    "import pandas as pd\n",
    "import numpy as np\n",
    "import matplotlib.pyplot as plt\n",
    "import seaborn as sns\n",
    "import cv2\n",
    "from sklearn.model_selection import train_test_split\n",
    "from sklearn.preprocessing import LabelEncoder\n",
    "from sklearn.metrics import classification_report, confusion_matrix\n",
    "from keras.layers import Input, Conv2D, MaxPooling2D, Flatten, Dense, Dropout, BatchNormalization, GlobalAveragePooling2D\n",
    "from keras.models import Model, Sequential\n",
    "from keras.callbacks import LearningRateScheduler, EarlyStopping\n",
    "from tensorflow.keras.utils import to_categorical\n",
    "from keras.applications import MobileNetV2, NASNetMobile"
   ]
  },
  {
   "cell_type": "markdown",
   "id": "25b7272b",
   "metadata": {},
   "source": [
    "## Dataset Preparation"
   ]
  },
  {
   "cell_type": "code",
   "execution_count": 2,
   "id": "16d30d96",
   "metadata": {
    "scrolled": true
   },
   "outputs": [
    {
     "data": {
      "text/html": [
       "<div>\n",
       "<style scoped>\n",
       "    .dataframe tbody tr th:only-of-type {\n",
       "        vertical-align: middle;\n",
       "    }\n",
       "\n",
       "    .dataframe tbody tr th {\n",
       "        vertical-align: top;\n",
       "    }\n",
       "\n",
       "    .dataframe thead th {\n",
       "        text-align: right;\n",
       "    }\n",
       "</style>\n",
       "<table border=\"1\" class=\"dataframe\">\n",
       "  <thead>\n",
       "    <tr style=\"text-align: right;\">\n",
       "      <th></th>\n",
       "      <th>Location</th>\n",
       "      <th>Filename</th>\n",
       "      <th>Year</th>\n",
       "      <th>Month</th>\n",
       "      <th>Day</th>\n",
       "      <th>Hour</th>\n",
       "      <th>AQI</th>\n",
       "      <th>PM2.5</th>\n",
       "      <th>PM10</th>\n",
       "      <th>O3</th>\n",
       "      <th>CO</th>\n",
       "      <th>SO2</th>\n",
       "      <th>NO2</th>\n",
       "      <th>AQI_Class</th>\n",
       "    </tr>\n",
       "  </thead>\n",
       "  <tbody>\n",
       "    <tr>\n",
       "      <th>0</th>\n",
       "      <td>Biratnagar, Nepal</td>\n",
       "      <td>BRI_Un_2023-02-02- 12.00-9.jpg</td>\n",
       "      <td>2023</td>\n",
       "      <td>2</td>\n",
       "      <td>2</td>\n",
       "      <td>12:00</td>\n",
       "      <td>158</td>\n",
       "      <td>70.08</td>\n",
       "      <td>100.82</td>\n",
       "      <td>58.89</td>\n",
       "      <td>0.49</td>\n",
       "      <td>4.4</td>\n",
       "      <td>1.04</td>\n",
       "      <td>d_Unhealthy</td>\n",
       "    </tr>\n",
       "    <tr>\n",
       "      <th>1</th>\n",
       "      <td>Biratnagar, Nepal</td>\n",
       "      <td>BRI_Un_2023-02-02- 12.00-8.jpg</td>\n",
       "      <td>2023</td>\n",
       "      <td>2</td>\n",
       "      <td>2</td>\n",
       "      <td>12:00</td>\n",
       "      <td>158</td>\n",
       "      <td>70.08</td>\n",
       "      <td>100.82</td>\n",
       "      <td>58.89</td>\n",
       "      <td>0.49</td>\n",
       "      <td>4.4</td>\n",
       "      <td>1.04</td>\n",
       "      <td>d_Unhealthy</td>\n",
       "    </tr>\n",
       "    <tr>\n",
       "      <th>2</th>\n",
       "      <td>Biratnagar, Nepal</td>\n",
       "      <td>BRI_Un_2023-02-02- 12.00-7.jpg</td>\n",
       "      <td>2023</td>\n",
       "      <td>2</td>\n",
       "      <td>2</td>\n",
       "      <td>12:00</td>\n",
       "      <td>158</td>\n",
       "      <td>70.08</td>\n",
       "      <td>100.82</td>\n",
       "      <td>58.89</td>\n",
       "      <td>0.49</td>\n",
       "      <td>4.4</td>\n",
       "      <td>1.04</td>\n",
       "      <td>d_Unhealthy</td>\n",
       "    </tr>\n",
       "    <tr>\n",
       "      <th>3</th>\n",
       "      <td>Biratnagar, Nepal</td>\n",
       "      <td>BRI_Un_2023-02-02- 12.00-6.jpg</td>\n",
       "      <td>2023</td>\n",
       "      <td>2</td>\n",
       "      <td>2</td>\n",
       "      <td>12:00</td>\n",
       "      <td>158</td>\n",
       "      <td>70.08</td>\n",
       "      <td>100.82</td>\n",
       "      <td>58.89</td>\n",
       "      <td>0.49</td>\n",
       "      <td>4.4</td>\n",
       "      <td>1.04</td>\n",
       "      <td>d_Unhealthy</td>\n",
       "    </tr>\n",
       "    <tr>\n",
       "      <th>4</th>\n",
       "      <td>Biratnagar, Nepal</td>\n",
       "      <td>BRI_Un_2023-02-02- 12.00-5.jpg</td>\n",
       "      <td>2023</td>\n",
       "      <td>2</td>\n",
       "      <td>2</td>\n",
       "      <td>12:00</td>\n",
       "      <td>158</td>\n",
       "      <td>70.08</td>\n",
       "      <td>100.82</td>\n",
       "      <td>58.89</td>\n",
       "      <td>0.49</td>\n",
       "      <td>4.4</td>\n",
       "      <td>1.04</td>\n",
       "      <td>d_Unhealthy</td>\n",
       "    </tr>\n",
       "  </tbody>\n",
       "</table>\n",
       "</div>"
      ],
      "text/plain": [
       "            Location                        Filename  Year  Month  Day   Hour  \\\n",
       "0  Biratnagar, Nepal  BRI_Un_2023-02-02- 12.00-9.jpg  2023      2    2  12:00   \n",
       "1  Biratnagar, Nepal  BRI_Un_2023-02-02- 12.00-8.jpg  2023      2    2  12:00   \n",
       "2  Biratnagar, Nepal  BRI_Un_2023-02-02- 12.00-7.jpg  2023      2    2  12:00   \n",
       "3  Biratnagar, Nepal  BRI_Un_2023-02-02- 12.00-6.jpg  2023      2    2  12:00   \n",
       "4  Biratnagar, Nepal  BRI_Un_2023-02-02- 12.00-5.jpg  2023      2    2  12:00   \n",
       "\n",
       "   AQI  PM2.5    PM10     O3    CO  SO2   NO2    AQI_Class  \n",
       "0  158  70.08  100.82  58.89  0.49  4.4  1.04  d_Unhealthy  \n",
       "1  158  70.08  100.82  58.89  0.49  4.4  1.04  d_Unhealthy  \n",
       "2  158  70.08  100.82  58.89  0.49  4.4  1.04  d_Unhealthy  \n",
       "3  158  70.08  100.82  58.89  0.49  4.4  1.04  d_Unhealthy  \n",
       "4  158  70.08  100.82  58.89  0.49  4.4  1.04  d_Unhealthy  "
      ]
     },
     "execution_count": 2,
     "metadata": {},
     "output_type": "execute_result"
    }
   ],
   "source": [
    "df = pd.read_csv('./Air Pollution Image Dataset/Air Pollution Image Dataset/Combined_Dataset/IND_and_Nep_AQI_Dataset.csv')\n",
    "df.head()"
   ]
  },
  {
   "cell_type": "code",
   "execution_count": 3,
   "id": "b022c848",
   "metadata": {},
   "outputs": [
    {
     "data": {
      "text/html": [
       "<div>\n",
       "<style scoped>\n",
       "    .dataframe tbody tr th:only-of-type {\n",
       "        vertical-align: middle;\n",
       "    }\n",
       "\n",
       "    .dataframe tbody tr th {\n",
       "        vertical-align: top;\n",
       "    }\n",
       "\n",
       "    .dataframe thead th {\n",
       "        text-align: right;\n",
       "    }\n",
       "</style>\n",
       "<table border=\"1\" class=\"dataframe\">\n",
       "  <thead>\n",
       "    <tr style=\"text-align: right;\">\n",
       "      <th></th>\n",
       "      <th>Location</th>\n",
       "      <th>Filename</th>\n",
       "      <th>Year</th>\n",
       "      <th>Month</th>\n",
       "      <th>Day</th>\n",
       "      <th>Hour</th>\n",
       "      <th>AQI</th>\n",
       "      <th>PM2.5</th>\n",
       "      <th>PM10</th>\n",
       "      <th>O3</th>\n",
       "      <th>CO</th>\n",
       "      <th>SO2</th>\n",
       "      <th>NO2</th>\n",
       "      <th>AQI_Class</th>\n",
       "    </tr>\n",
       "  </thead>\n",
       "  <tbody>\n",
       "    <tr>\n",
       "      <th>0</th>\n",
       "      <td>Biratnagar, Nepal</td>\n",
       "      <td>BRI_Un_2023-02-02- 12.00-9.jpg</td>\n",
       "      <td>2023</td>\n",
       "      <td>2</td>\n",
       "      <td>2</td>\n",
       "      <td>12:00</td>\n",
       "      <td>158</td>\n",
       "      <td>70.08</td>\n",
       "      <td>100.82</td>\n",
       "      <td>58.89</td>\n",
       "      <td>0.49</td>\n",
       "      <td>4.4</td>\n",
       "      <td>1.04</td>\n",
       "      <td>3</td>\n",
       "    </tr>\n",
       "    <tr>\n",
       "      <th>1</th>\n",
       "      <td>Biratnagar, Nepal</td>\n",
       "      <td>BRI_Un_2023-02-02- 12.00-8.jpg</td>\n",
       "      <td>2023</td>\n",
       "      <td>2</td>\n",
       "      <td>2</td>\n",
       "      <td>12:00</td>\n",
       "      <td>158</td>\n",
       "      <td>70.08</td>\n",
       "      <td>100.82</td>\n",
       "      <td>58.89</td>\n",
       "      <td>0.49</td>\n",
       "      <td>4.4</td>\n",
       "      <td>1.04</td>\n",
       "      <td>3</td>\n",
       "    </tr>\n",
       "    <tr>\n",
       "      <th>2</th>\n",
       "      <td>Biratnagar, Nepal</td>\n",
       "      <td>BRI_Un_2023-02-02- 12.00-7.jpg</td>\n",
       "      <td>2023</td>\n",
       "      <td>2</td>\n",
       "      <td>2</td>\n",
       "      <td>12:00</td>\n",
       "      <td>158</td>\n",
       "      <td>70.08</td>\n",
       "      <td>100.82</td>\n",
       "      <td>58.89</td>\n",
       "      <td>0.49</td>\n",
       "      <td>4.4</td>\n",
       "      <td>1.04</td>\n",
       "      <td>3</td>\n",
       "    </tr>\n",
       "    <tr>\n",
       "      <th>3</th>\n",
       "      <td>Biratnagar, Nepal</td>\n",
       "      <td>BRI_Un_2023-02-02- 12.00-6.jpg</td>\n",
       "      <td>2023</td>\n",
       "      <td>2</td>\n",
       "      <td>2</td>\n",
       "      <td>12:00</td>\n",
       "      <td>158</td>\n",
       "      <td>70.08</td>\n",
       "      <td>100.82</td>\n",
       "      <td>58.89</td>\n",
       "      <td>0.49</td>\n",
       "      <td>4.4</td>\n",
       "      <td>1.04</td>\n",
       "      <td>3</td>\n",
       "    </tr>\n",
       "    <tr>\n",
       "      <th>4</th>\n",
       "      <td>Biratnagar, Nepal</td>\n",
       "      <td>BRI_Un_2023-02-02- 12.00-5.jpg</td>\n",
       "      <td>2023</td>\n",
       "      <td>2</td>\n",
       "      <td>2</td>\n",
       "      <td>12:00</td>\n",
       "      <td>158</td>\n",
       "      <td>70.08</td>\n",
       "      <td>100.82</td>\n",
       "      <td>58.89</td>\n",
       "      <td>0.49</td>\n",
       "      <td>4.4</td>\n",
       "      <td>1.04</td>\n",
       "      <td>3</td>\n",
       "    </tr>\n",
       "  </tbody>\n",
       "</table>\n",
       "</div>"
      ],
      "text/plain": [
       "            Location                        Filename  Year  Month  Day   Hour  \\\n",
       "0  Biratnagar, Nepal  BRI_Un_2023-02-02- 12.00-9.jpg  2023      2    2  12:00   \n",
       "1  Biratnagar, Nepal  BRI_Un_2023-02-02- 12.00-8.jpg  2023      2    2  12:00   \n",
       "2  Biratnagar, Nepal  BRI_Un_2023-02-02- 12.00-7.jpg  2023      2    2  12:00   \n",
       "3  Biratnagar, Nepal  BRI_Un_2023-02-02- 12.00-6.jpg  2023      2    2  12:00   \n",
       "4  Biratnagar, Nepal  BRI_Un_2023-02-02- 12.00-5.jpg  2023      2    2  12:00   \n",
       "\n",
       "   AQI  PM2.5    PM10     O3    CO  SO2   NO2  AQI_Class  \n",
       "0  158  70.08  100.82  58.89  0.49  4.4  1.04          3  \n",
       "1  158  70.08  100.82  58.89  0.49  4.4  1.04          3  \n",
       "2  158  70.08  100.82  58.89  0.49  4.4  1.04          3  \n",
       "3  158  70.08  100.82  58.89  0.49  4.4  1.04          3  \n",
       "4  158  70.08  100.82  58.89  0.49  4.4  1.04          3  "
      ]
     },
     "execution_count": 3,
     "metadata": {},
     "output_type": "execute_result"
    }
   ],
   "source": [
    "#Label Encoding the categorical variable\n",
    "label_encoder = LabelEncoder()\n",
    "df['AQI_Class'] = label_encoder.fit_transform(df['AQI_Class'])\n",
    "df.head()"
   ]
  },
  {
   "cell_type": "code",
   "execution_count": 4,
   "id": "03318523",
   "metadata": {},
   "outputs": [],
   "source": [
    "def getImageData(dirPath, filenames):\n",
    "    images = []\n",
    "    for filename in filenames:\n",
    "        img = cv2.imread(dirPath+filename)\n",
    "        img = cv2.cvtColor(img, cv2.COLOR_BGR2RGB)\n",
    "        img = img.astype(\"float16\") / 255.0\n",
    "        images.append(img)\n",
    "    return np.array(images)\n",
    "    \n",
    "location = \"./Air Pollution Image Dataset/Air Pollution Image Dataset/Combined_Dataset/All_img/\"\n",
    "data = getImageData(location, df['Filename'].values.tolist())"
   ]
  },
  {
   "cell_type": "code",
   "execution_count": 5,
   "id": "105136d6",
   "metadata": {},
   "outputs": [],
   "source": [
    "X = data\n",
    "y = df['AQI_Class'].values\n",
    "X_train, X_test, y_train, y_test = train_test_split(X, y, test_size=0.2, random_state=10)"
   ]
  },
  {
   "cell_type": "code",
   "execution_count": 6,
   "id": "6d4b0f13",
   "metadata": {},
   "outputs": [],
   "source": [
    "class_distribution = df['AQI_Class'].value_counts()"
   ]
  },
  {
   "cell_type": "markdown",
   "id": "af47a363",
   "metadata": {},
   "source": [
    "## Dataset Exploration"
   ]
  },
  {
   "cell_type": "code",
   "execution_count": 7,
   "id": "4f2b1e54",
   "metadata": {},
   "outputs": [
    {
     "data": {
      "image/png": "[encoded data removed]",
      "text/plain": [
       "<Figure size 800x800 with 1 Axes>"
      ]
     },
     "metadata": {},
     "output_type": "display_data"
    }
   ],
   "source": [
    "plt.figure(figsize=(8, 8))\n",
    "plt.pie(class_distribution, labels=class_distribution.index, autopct='%1.1f%%', startangle=90, colors=['lightcoral', 'lightgreen', 'lightblue', 'orange', 'lightyellow', 'lightpink'])\n",
    "plt.title('Distribution of AQI Classes')\n",
    "plt.show()"
   ]
  },
  {
   "cell_type": "code",
   "execution_count": 8,
   "id": "45db22d0",
   "metadata": {
    "scrolled": false
   },
   "outputs": [
    {
     "data": {
      "image/png": "[encoded data removed]",
      "text/plain": [
       "<Figure size 1200x800 with 1 Axes>"
      ]
     },
     "metadata": {},
     "output_type": "display_data"
    }
   ],
   "source": [
    "plt.figure(figsize=(12, 8))\n",
    "sns.violinplot(x='AQI_Class', y='AQI', data=df, palette='Set3')\n",
    "plt.title('Distribution of AQI Across AQI Classes')\n",
    "plt.xlabel('AQI Class')\n",
    "plt.ylabel('AQI Levels')\n",
    "plt.show()"
   ]
  },
  {
   "cell_type": "markdown",
   "id": "229b405e",
   "metadata": {},
   "source": [
    "## AQI Class Prediction"
   ]
  },
  {
   "cell_type": "code",
   "execution_count": 9,
   "id": "fcf3c158",
   "metadata": {},
   "outputs": [],
   "source": [
    "numberOfClasses = len(label_encoder.classes_)\n",
    "y_train_encoded = to_categorical(y_train, num_classes=numberOfClasses)\n",
    "y_test_encoded = to_categorical(y_test, num_classes=numberOfClasses)"
   ]
  },
  {
   "cell_type": "markdown",
   "id": "3acd2819",
   "metadata": {},
   "source": [
    "### Using from scratch CNN model"
   ]
  },
  {
   "cell_type": "code",
   "execution_count": 10,
   "id": "48bf6c4e",
   "metadata": {},
   "outputs": [
    {
     "name": "stdout",
     "output_type": "stream",
     "text": [
      "WARNING:tensorflow:From C:\\Users\\nandi\\anaconda3\\Lib\\site-packages\\keras\\src\\backend.py:873: The name tf.get_default_graph is deprecated. Please use tf.compat.v1.get_default_graph instead.\n",
      "\n",
      "WARNING:tensorflow:From C:\\Users\\nandi\\anaconda3\\Lib\\site-packages\\keras\\src\\layers\\pooling\\max_pooling2d.py:161: The name tf.nn.max_pool is deprecated. Please use tf.nn.max_pool2d instead.\n",
      "\n"
     ]
    }
   ],
   "source": [
    "cnnModel = Sequential()\n",
    "\n",
    "cnnModel.add(Conv2D(32, (3, 3), activation='relu', input_shape=(224, 224, 3)))\n",
    "cnnModel.add(MaxPooling2D((2, 2)))\n",
    "cnnModel.add(BatchNormalization())\n",
    "cnnModel.add(Dropout(0.25))\n",
    "\n",
    "cnnModel.add(Conv2D(64, (3, 3), activation='relu'))\n",
    "cnnModel.add(MaxPooling2D((2, 2)))\n",
    "cnnModel.add(BatchNormalization())\n",
    "cnnModel.add(Dropout(0.25))\n",
    "\n",
    "cnnModel.add(Conv2D(128, (3, 3), activation='relu'))\n",
    "cnnModel.add(MaxPooling2D((2, 2)))\n",
    "cnnModel.add(BatchNormalization())\n",
    "cnnModel.add(Dropout(0.25))\n",
    "\n",
    "cnnModel.add(Flatten())\n",
    "cnnModel.add(Dense(128, activation='relu'))\n",
    "cnnModel.add(Dropout(0.5))\n",
    "cnnModel.add(Dense(numberOfClasses, activation='softmax'))  # Output layer with softmax for multi-class"
   ]
  },
  {
   "cell_type": "code",
   "execution_count": 11,
   "id": "fa0104c5",
   "metadata": {
    "scrolled": false
   },
   "outputs": [
    {
     "name": "stdout",
     "output_type": "stream",
     "text": [
      "WARNING:tensorflow:From C:\\Users\\nandi\\anaconda3\\Lib\\site-packages\\keras\\src\\optimizers\\__init__.py:309: The name tf.train.Optimizer is deprecated. Please use tf.compat.v1.train.Optimizer instead.\n",
      "\n",
      "Model: \"sequential\"\n",
      "_________________________________________________________________\n",
      " Layer (type)                Output Shape              Param #   \n",
      "=================================================================\n",
      " conv2d (Conv2D)             (None, 222, 222, 32)      896       \n",
      "                                                                 \n",
      " max_pooling2d (MaxPooling2  (None, 111, 111, 32)      0         \n",
      " D)                                                              \n",
      "                                                                 \n",
      " batch_normalization (Batch  (None, 111, 111, 32)      128       \n",
      " Normalization)                                                  \n",
      "                                                                 \n",
      " dropout (Dropout)           (None, 111, 111, 32)      0         \n",
      "                                                                 \n",
      " conv2d_1 (Conv2D)           (None, 109, 109, 64)      18496     \n",
      "                                                                 \n",
      " max_pooling2d_1 (MaxPoolin  (None, 54, 54, 64)        0         \n",
      " g2D)                                                            \n",
      "                                                                 \n",
      " batch_normalization_1 (Bat  (None, 54, 54, 64)        256       \n",
      " chNormalization)                                                \n",
      "                                                                 \n",
      " dropout_1 (Dropout)         (None, 54, 54, 64)        0         \n",
      "                                                                 \n",
      " conv2d_2 (Conv2D)           (None, 52, 52, 128)       73856     \n",
      "                                                                 \n",
      " max_pooling2d_2 (MaxPoolin  (None, 26, 26, 128)       0         \n",
      " g2D)                                                            \n",
      "                                                                 \n",
      " batch_normalization_2 (Bat  (None, 26, 26, 128)       512       \n",
      " chNormalization)                                                \n",
      "                                                                 \n",
      " dropout_2 (Dropout)         (None, 26, 26, 128)       0         \n",
      "                                                                 \n",
      " flatten (Flatten)           (None, 86528)             0         \n",
      "                                                                 \n",
      " dense (Dense)               (None, 128)               11075712  \n",
      "                                                                 \n",
      " dropout_3 (Dropout)         (None, 128)               0         \n",
      "                                                                 \n",
      " dense_1 (Dense)             (None, 6)                 774       \n",
      "                                                                 \n",
      "=================================================================\n",
      "Total params: 11170630 (42.61 MB)\n",
      "Trainable params: 11170182 (42.61 MB)\n",
      "Non-trainable params: 448 (1.75 KB)\n",
      "_________________________________________________________________\n"
     ]
    }
   ],
   "source": [
    "earlyStopping = EarlyStopping(monitor='val_loss', patience=5, restore_best_weights=True)\n",
    "\n",
    "cnnModel.compile(optimizer='adam', loss='categorical_crossentropy', metrics=['accuracy'])\n",
    "cnnModel.summary()"
   ]
  },
  {
   "cell_type": "code",
   "execution_count": 12,
   "id": "72752dd4",
   "metadata": {
    "scrolled": false
   },
   "outputs": [
    {
     "name": "stdout",
     "output_type": "stream",
     "text": [
      "Epoch 1/50\n",
      "WARNING:tensorflow:From C:\\Users\\nandi\\anaconda3\\Lib\\site-packages\\keras\\src\\utils\\tf_utils.py:492: The name tf.ragged.RaggedTensorValue is deprecated. Please use tf.compat.v1.ragged.RaggedTensorValue instead.\n",
      "\n",
      "WARNING:tensorflow:From C:\\Users\\nandi\\anaconda3\\Lib\\site-packages\\keras\\src\\engine\\base_layer_utils.py:384: The name tf.executing_eagerly_outside_functions is deprecated. Please use tf.compat.v1.executing_eagerly_outside_functions instead.\n",
      "\n",
      "153/153 [==============================] - 138s 884ms/step - loss: 3.5366 - accuracy: 0.3069 - val_loss: 12.5064 - val_accuracy: 0.2198\n",
      "Epoch 2/50\n",
      "153/153 [==============================] - 132s 861ms/step - loss: 2.3232 - accuracy: 0.3327 - val_loss: 8.0324 - val_accuracy: 0.2275\n",
      "Epoch 3/50\n",
      "153/153 [==============================] - 136s 887ms/step - loss: 1.7730 - accuracy: 0.3256 - val_loss: 2.4681 - val_accuracy: 0.2945\n",
      "Epoch 4/50\n",
      "153/153 [==============================] - 145s 951ms/step - loss: 1.5447 - accuracy: 0.3506 - val_loss: 2.0326 - val_accuracy: 0.3574\n",
      "Epoch 5/50\n",
      "153/153 [==============================] - 140s 918ms/step - loss: 1.6394 - accuracy: 0.3537 - val_loss: 1.5738 - val_accuracy: 0.4383\n",
      "Epoch 6/50\n",
      "153/153 [==============================] - 142s 928ms/step - loss: 1.5070 - accuracy: 0.3576 - val_loss: 1.3955 - val_accuracy: 0.4400\n",
      "Epoch 7/50\n",
      "153/153 [==============================] - 142s 928ms/step - loss: 1.4133 - accuracy: 0.3840 - val_loss: 1.4652 - val_accuracy: 0.4702\n",
      "Epoch 8/50\n",
      "153/153 [==============================] - 145s 945ms/step - loss: 1.4159 - accuracy: 0.3844 - val_loss: 3.0427 - val_accuracy: 0.3096\n",
      "Epoch 9/50\n",
      "153/153 [==============================] - 141s 922ms/step - loss: 1.3832 - accuracy: 0.4220 - val_loss: 1.2385 - val_accuracy: 0.5458\n",
      "Epoch 10/50\n",
      "153/153 [==============================] - 157s 1s/step - loss: 1.2773 - accuracy: 0.4477 - val_loss: 1.3895 - val_accuracy: 0.5200\n",
      "Epoch 11/50\n",
      "153/153 [==============================] - 155s 1s/step - loss: 1.3050 - accuracy: 0.4537 - val_loss: 6.4150 - val_accuracy: 0.4020\n",
      "Epoch 12/50\n",
      "153/153 [==============================] - 147s 963ms/step - loss: 1.2882 - accuracy: 0.4598 - val_loss: 1.1528 - val_accuracy: 0.5596\n",
      "Epoch 13/50\n",
      "153/153 [==============================] - 152s 995ms/step - loss: 1.1699 - accuracy: 0.4846 - val_loss: 1.2727 - val_accuracy: 0.5441\n",
      "Epoch 14/50\n",
      "153/153 [==============================] - 150s 979ms/step - loss: 1.1362 - accuracy: 0.5105 - val_loss: 1.0599 - val_accuracy: 0.5948\n",
      "Epoch 15/50\n",
      "153/153 [==============================] - 145s 946ms/step - loss: 1.0758 - accuracy: 0.5322 - val_loss: 1.6918 - val_accuracy: 0.5396\n",
      "Epoch 16/50\n",
      "153/153 [==============================] - 151s 989ms/step - loss: 1.1196 - accuracy: 0.5355 - val_loss: 1.0633 - val_accuracy: 0.6025\n",
      "Epoch 17/50\n",
      "153/153 [==============================] - 145s 948ms/step - loss: 1.0707 - accuracy: 0.5414 - val_loss: 1.2187 - val_accuracy: 0.4967\n",
      "Epoch 18/50\n",
      "153/153 [==============================] - 145s 951ms/step - loss: 1.0465 - accuracy: 0.5498 - val_loss: 1.0468 - val_accuracy: 0.5927\n",
      "Epoch 19/50\n",
      "153/153 [==============================] - 142s 927ms/step - loss: 1.0208 - accuracy: 0.5625 - val_loss: 1.2226 - val_accuracy: 0.5588\n",
      "Epoch 20/50\n",
      "153/153 [==============================] - 142s 927ms/step - loss: 0.9698 - accuracy: 0.5788 - val_loss: 0.8180 - val_accuracy: 0.6887\n",
      "Epoch 21/50\n",
      "153/153 [==============================] - 141s 921ms/step - loss: 0.9431 - accuracy: 0.5949 - val_loss: 0.7417 - val_accuracy: 0.6908\n",
      "Epoch 22/50\n",
      "153/153 [==============================] - 143s 938ms/step - loss: 0.9442 - accuracy: 0.5987 - val_loss: 1.1200 - val_accuracy: 0.6319\n",
      "Epoch 23/50\n",
      "153/153 [==============================] - 144s 943ms/step - loss: 0.9167 - accuracy: 0.6085 - val_loss: 1.0430 - val_accuracy: 0.6536\n",
      "Epoch 24/50\n",
      "153/153 [==============================] - 142s 931ms/step - loss: 0.9080 - accuracy: 0.6162 - val_loss: 1.3439 - val_accuracy: 0.6307\n",
      "Epoch 25/50\n",
      "153/153 [==============================] - 143s 935ms/step - loss: 0.8994 - accuracy: 0.6239 - val_loss: 0.9257 - val_accuracy: 0.6875\n",
      "Epoch 26/50\n",
      "153/153 [==============================] - 146s 958ms/step - loss: 0.8741 - accuracy: 0.6319 - val_loss: 1.1879 - val_accuracy: 0.5527\n"
     ]
    }
   ],
   "source": [
    "history = cnnModel.fit(X_train, y_train_encoded, batch_size=64, epochs=50, validation_data=(X_test, y_test_encoded), verbose=1, callbacks=[earlyStopping])"
   ]
  },
  {
   "cell_type": "code",
   "execution_count": 13,
   "id": "8b4aef8f",
   "metadata": {},
   "outputs": [
    {
     "data": {
      "image/png": "[encoded data removed]",
      "text/plain": [
       "<Figure size 640x480 with 1 Axes>"
      ]
     },
     "metadata": {},
     "output_type": "display_data"
    }
   ],
   "source": [
    "train_loss = history.history['loss']  \n",
    "val_loss = history.history['val_loss']\n",
    "plt.plot(train_loss)\n",
    "plt.plot(val_loss)\n",
    "plt.xlabel(\"Epochs\")\n",
    "plt.ylabel(\"Accuracy\")\n",
    "plt.show()"
   ]
  },
  {
   "cell_type": "code",
   "execution_count": 14,
   "id": "9dc7bba4",
   "metadata": {},
   "outputs": [
    {
     "name": "stdout",
     "output_type": "stream",
     "text": [
      "77/77 [==============================] - 9s 118ms/step - loss: 0.7417 - accuracy: 0.6908\n",
      "Test Accuracy: 0.6907680034637451\n"
     ]
    }
   ],
   "source": [
    "test_loss, test_acc = cnnModel.evaluate(X_test, y_test_encoded)\n",
    "print(f'Test Accuracy: {test_acc}')"
   ]
  },
  {
   "cell_type": "code",
   "execution_count": 15,
   "id": "a0fb51f4",
   "metadata": {},
   "outputs": [
    {
     "name": "stdout",
     "output_type": "stream",
     "text": [
      "77/77 [==============================] - 10s 120ms/step\n",
      "                                  precision    recall  f1-score   support\n",
      "\n",
      "                          a_Good       0.44      0.85      0.58       294\n",
      "                      b_Moderate       0.74      0.07      0.13       316\n",
      "c_Unhealthy_for_Sensitive_Groups       0.59      0.74      0.66       583\n",
      "                     d_Unhealthy       0.79      0.79      0.79       533\n",
      "                e_Very_Unhealthy       0.95      0.76      0.85       442\n",
      "                        f_Severe       0.97      0.81      0.88       280\n",
      "\n",
      "                        accuracy                           0.69      2448\n",
      "                       macro avg       0.75      0.67      0.65      2448\n",
      "                    weighted avg       0.74      0.69      0.67      2448\n",
      "\n"
     ]
    }
   ],
   "source": [
    "# Getting Predictions, their original encodings and their labels\n",
    "predictions = cnnModel.predict(X_test)\n",
    "predicted_labels = np.argmax(predictions, axis=1)\n",
    "\n",
    "predicted_labels = label_encoder.inverse_transform(predicted_labels)\n",
    "true_labels = label_encoder.inverse_transform(y_test)\n",
    "print(classification_report(true_labels, predicted_labels))"
   ]
  },
  {
   "cell_type": "code",
   "execution_count": null,
   "id": "bc456968",
   "metadata": {},
   "outputs": [],
   "source": []
  },
  {
   "cell_type": "markdown",
   "id": "8d77fc22",
   "metadata": {},
   "source": [
    "### Using MobileNetV2 model"
   ]
  },
  {
   "cell_type": "code",
   "execution_count": 10,
   "id": "4c8c9e0b",
   "metadata": {},
   "outputs": [
    {
     "name": "stdout",
     "output_type": "stream",
     "text": [
      "WARNING:tensorflow:From C:\\Users\\nandi\\anaconda3\\Lib\\site-packages\\keras\\src\\backend.py:1398: The name tf.executing_eagerly_outside_functions is deprecated. Please use tf.compat.v1.executing_eagerly_outside_functions instead.\n",
      "\n",
      "WARNING:tensorflow:From C:\\Users\\nandi\\anaconda3\\Lib\\site-packages\\keras\\src\\layers\\normalization\\batch_normalization.py:979: The name tf.nn.fused_batch_norm is deprecated. Please use tf.compat.v1.nn.fused_batch_norm instead.\n",
      "\n"
     ]
    }
   ],
   "source": [
    "# Loading the transfer learning model\n",
    "mvnBaseModel = MobileNetV2(weights='imagenet', include_top=False, input_shape=(224, 224, 3))\n",
    "\n",
    "# Freezing the model's ;ayers\n",
    "for layer in mvnBaseModel.layers:\n",
    "    layer.trainable = False\n",
    "\n",
    "mvnModel = Sequential()\n",
    "\n",
    "# Adding few layers on top of it\n",
    "mvnModel.add(mvnBaseModel)\n",
    "mvnModel.add(GlobalAveragePooling2D())\n",
    "mvnModel.add(Flatten())\n",
    "mvnModel.add(Dense(128, activation='relu'))\n",
    "mvnModel.add(BatchNormalization())\n",
    "mvnModel.add(Dropout(0.5))\n",
    "mvnModel.add(Dense(numberOfClasses, activation='softmax'))"
   ]
  },
  {
   "cell_type": "code",
   "execution_count": 11,
   "id": "308463f0",
   "metadata": {},
   "outputs": [
    {
     "name": "stdout",
     "output_type": "stream",
     "text": [
      "WARNING:tensorflow:From C:\\Users\\nandi\\anaconda3\\Lib\\site-packages\\keras\\src\\optimizers\\__init__.py:309: The name tf.train.Optimizer is deprecated. Please use tf.compat.v1.train.Optimizer instead.\n",
      "\n",
      "Model: \"sequential\"\n",
      "_________________________________________________________________\n",
      " Layer (type)                Output Shape              Param #   \n",
      "=================================================================\n",
      " mobilenetv2_1.00_224 (Func  (None, 7, 7, 1280)        2257984   \n",
      " tional)                                                         \n",
      "                                                                 \n",
      " global_average_pooling2d (  (None, 1280)              0         \n",
      " GlobalAveragePooling2D)                                         \n",
      "                                                                 \n",
      " flatten (Flatten)           (None, 1280)              0         \n",
      "                                                                 \n",
      " dense (Dense)               (None, 128)               163968    \n",
      "                                                                 \n",
      " batch_normalization (Batch  (None, 128)               512       \n",
      " Normalization)                                                  \n",
      "                                                                 \n",
      " dropout (Dropout)           (None, 128)               0         \n",
      "                                                                 \n",
      " dense_1 (Dense)             (None, 6)                 774       \n",
      "                                                                 \n",
      "=================================================================\n",
      "Total params: 2423238 (9.24 MB)\n",
      "Trainable params: 164998 (644.52 KB)\n",
      "Non-trainable params: 2258240 (8.61 MB)\n",
      "_________________________________________________________________\n"
     ]
    }
   ],
   "source": [
    "mvnModel.compile(optimizer='adam', loss='categorical_crossentropy', metrics=['accuracy'])\n",
    "mvnModel.summary()"
   ]
  },
  {
   "cell_type": "code",
   "execution_count": 12,
   "id": "92f556ed",
   "metadata": {
    "scrolled": false
   },
   "outputs": [
    {
     "name": "stdout",
     "output_type": "stream",
     "text": [
      "Epoch 1/50\n",
      "WARNING:tensorflow:From C:\\Users\\nandi\\anaconda3\\Lib\\site-packages\\keras\\src\\utils\\tf_utils.py:492: The name tf.ragged.RaggedTensorValue is deprecated. Please use tf.compat.v1.ragged.RaggedTensorValue instead.\n",
      "\n",
      "WARNING:tensorflow:From C:\\Users\\nandi\\anaconda3\\Lib\\site-packages\\keras\\src\\engine\\base_layer_utils.py:384: The name tf.executing_eagerly_outside_functions is deprecated. Please use tf.compat.v1.executing_eagerly_outside_functions instead.\n",
      "\n",
      "153/153 [==============================] - 62s 379ms/step - loss: 0.9549 - accuracy: 0.6506 - val_loss: 0.5290 - val_accuracy: 0.8309\n",
      "Epoch 2/50\n",
      "153/153 [==============================] - 55s 360ms/step - loss: 0.5090 - accuracy: 0.8167 - val_loss: 0.3794 - val_accuracy: 0.8779\n",
      "Epoch 3/50\n",
      "153/153 [==============================] - 58s 382ms/step - loss: 0.3620 - accuracy: 0.8723 - val_loss: 0.2966 - val_accuracy: 0.8942\n",
      "Epoch 4/50\n",
      "153/153 [==============================] - 60s 392ms/step - loss: 0.2971 - accuracy: 0.8973 - val_loss: 0.2806 - val_accuracy: 0.9024\n",
      "Epoch 5/50\n",
      "153/153 [==============================] - 67s 436ms/step - loss: 0.2528 - accuracy: 0.9155 - val_loss: 0.2679 - val_accuracy: 0.9056\n",
      "Epoch 6/50\n",
      "153/153 [==============================] - 69s 451ms/step - loss: 0.2318 - accuracy: 0.9172 - val_loss: 0.2250 - val_accuracy: 0.9269\n",
      "Epoch 7/50\n",
      "153/153 [==============================] - 68s 444ms/step - loss: 0.1972 - accuracy: 0.9323 - val_loss: 0.2195 - val_accuracy: 0.9224\n",
      "Epoch 8/50\n",
      "153/153 [==============================] - 62s 404ms/step - loss: 0.1862 - accuracy: 0.9365 - val_loss: 0.1975 - val_accuracy: 0.9318\n",
      "Epoch 9/50\n",
      "153/153 [==============================] - 60s 390ms/step - loss: 0.1880 - accuracy: 0.9350 - val_loss: 0.2199 - val_accuracy: 0.9244\n",
      "Epoch 10/50\n",
      "153/153 [==============================] - 60s 392ms/step - loss: 0.1798 - accuracy: 0.9360 - val_loss: 0.2594 - val_accuracy: 0.9191\n",
      "Epoch 11/50\n",
      "153/153 [==============================] - 61s 402ms/step - loss: 0.1610 - accuracy: 0.9451 - val_loss: 0.1704 - val_accuracy: 0.9432\n",
      "Epoch 12/50\n",
      "153/153 [==============================] - 62s 408ms/step - loss: 0.1664 - accuracy: 0.9428 - val_loss: 0.2144 - val_accuracy: 0.9346\n",
      "Epoch 13/50\n",
      "153/153 [==============================] - 63s 412ms/step - loss: 0.1587 - accuracy: 0.9476 - val_loss: 0.1643 - val_accuracy: 0.9457\n",
      "Epoch 14/50\n",
      "153/153 [==============================] - 61s 400ms/step - loss: 0.1483 - accuracy: 0.9498 - val_loss: 0.1645 - val_accuracy: 0.9461\n",
      "Epoch 15/50\n",
      "153/153 [==============================] - 61s 397ms/step - loss: 0.1313 - accuracy: 0.9551 - val_loss: 0.1676 - val_accuracy: 0.9400\n",
      "Epoch 16/50\n",
      "153/153 [==============================] - 61s 401ms/step - loss: 0.1353 - accuracy: 0.9510 - val_loss: 0.1953 - val_accuracy: 0.9338\n",
      "Epoch 17/50\n",
      "153/153 [==============================] - 61s 399ms/step - loss: 0.1311 - accuracy: 0.9556 - val_loss: 0.1480 - val_accuracy: 0.9518\n",
      "Epoch 18/50\n",
      "153/153 [==============================] - 61s 401ms/step - loss: 0.1440 - accuracy: 0.9510 - val_loss: 0.1854 - val_accuracy: 0.9436\n",
      "Epoch 19/50\n",
      "153/153 [==============================] - 59s 383ms/step - loss: 0.1267 - accuracy: 0.9556 - val_loss: 0.1832 - val_accuracy: 0.9400\n",
      "Epoch 20/50\n",
      "153/153 [==============================] - 59s 385ms/step - loss: 0.1279 - accuracy: 0.9546 - val_loss: 0.1500 - val_accuracy: 0.9510\n",
      "Epoch 21/50\n",
      "153/153 [==============================] - 59s 384ms/step - loss: 0.1080 - accuracy: 0.9636 - val_loss: 0.1541 - val_accuracy: 0.9547\n",
      "Epoch 22/50\n",
      "153/153 [==============================] - 60s 395ms/step - loss: 0.1114 - accuracy: 0.9604 - val_loss: 0.1439 - val_accuracy: 0.9555\n",
      "Epoch 23/50\n",
      "153/153 [==============================] - 62s 404ms/step - loss: 0.1020 - accuracy: 0.9656 - val_loss: 0.1349 - val_accuracy: 0.9592\n",
      "Epoch 24/50\n",
      "153/153 [==============================] - 61s 402ms/step - loss: 0.1152 - accuracy: 0.9624 - val_loss: 0.1606 - val_accuracy: 0.9493\n",
      "Epoch 25/50\n",
      "153/153 [==============================] - 62s 407ms/step - loss: 0.0985 - accuracy: 0.9646 - val_loss: 0.1745 - val_accuracy: 0.9485\n",
      "Epoch 26/50\n",
      "153/153 [==============================] - 61s 402ms/step - loss: 0.0998 - accuracy: 0.9652 - val_loss: 0.1700 - val_accuracy: 0.9465\n",
      "Epoch 27/50\n",
      "153/153 [==============================] - 63s 415ms/step - loss: 0.0988 - accuracy: 0.9657 - val_loss: 0.1482 - val_accuracy: 0.9502\n",
      "Epoch 28/50\n",
      "153/153 [==============================] - 64s 417ms/step - loss: 0.1013 - accuracy: 0.9652 - val_loss: 0.1753 - val_accuracy: 0.9485\n",
      "Epoch 29/50\n",
      "153/153 [==============================] - 63s 411ms/step - loss: 0.0984 - accuracy: 0.9674 - val_loss: 0.1775 - val_accuracy: 0.9416\n",
      "Epoch 30/50\n",
      "153/153 [==============================] - 63s 415ms/step - loss: 0.1052 - accuracy: 0.9628 - val_loss: 0.1596 - val_accuracy: 0.9489\n",
      "Epoch 31/50\n",
      "153/153 [==============================] - 64s 417ms/step - loss: 0.1035 - accuracy: 0.9616 - val_loss: 0.1390 - val_accuracy: 0.9542\n",
      "Epoch 32/50\n",
      "153/153 [==============================] - 63s 414ms/step - loss: 0.1005 - accuracy: 0.9641 - val_loss: 0.1478 - val_accuracy: 0.9518\n",
      "Epoch 33/50\n",
      "153/153 [==============================] - 64s 419ms/step - loss: 0.1039 - accuracy: 0.9632 - val_loss: 0.1625 - val_accuracy: 0.9465\n",
      "Epoch 34/50\n",
      "153/153 [==============================] - 64s 416ms/step - loss: 0.0944 - accuracy: 0.9686 - val_loss: 0.1249 - val_accuracy: 0.9620\n",
      "Epoch 35/50\n",
      "153/153 [==============================] - 63s 414ms/step - loss: 0.0991 - accuracy: 0.9647 - val_loss: 0.1483 - val_accuracy: 0.9563\n",
      "Epoch 36/50\n",
      "153/153 [==============================] - 64s 420ms/step - loss: 0.0882 - accuracy: 0.9698 - val_loss: 0.1519 - val_accuracy: 0.9551\n",
      "Epoch 37/50\n",
      "153/153 [==============================] - 64s 416ms/step - loss: 0.0915 - accuracy: 0.9671 - val_loss: 0.1381 - val_accuracy: 0.9604\n",
      "Epoch 38/50\n",
      "153/153 [==============================] - 62s 403ms/step - loss: 0.0902 - accuracy: 0.9698 - val_loss: 0.1697 - val_accuracy: 0.9526\n",
      "Epoch 39/50\n",
      "153/153 [==============================] - 64s 416ms/step - loss: 0.0857 - accuracy: 0.9710 - val_loss: 0.1477 - val_accuracy: 0.9547\n",
      "Epoch 40/50\n",
      "153/153 [==============================] - 64s 422ms/step - loss: 0.0921 - accuracy: 0.9671 - val_loss: 0.1572 - val_accuracy: 0.9518\n",
      "Epoch 41/50\n",
      "153/153 [==============================] - 67s 436ms/step - loss: 0.0884 - accuracy: 0.9683 - val_loss: 0.1504 - val_accuracy: 0.9547\n",
      "Epoch 42/50\n",
      "153/153 [==============================] - 68s 446ms/step - loss: 0.0839 - accuracy: 0.9696 - val_loss: 0.1593 - val_accuracy: 0.9551\n",
      "Epoch 43/50\n",
      "153/153 [==============================] - 68s 447ms/step - loss: 0.0887 - accuracy: 0.9695 - val_loss: 0.1552 - val_accuracy: 0.9506\n",
      "Epoch 44/50\n",
      "153/153 [==============================] - 69s 450ms/step - loss: 0.0798 - accuracy: 0.9703 - val_loss: 0.1321 - val_accuracy: 0.9579\n",
      "Epoch 45/50\n",
      "153/153 [==============================] - 68s 448ms/step - loss: 0.0870 - accuracy: 0.9701 - val_loss: 0.1827 - val_accuracy: 0.9469\n",
      "Epoch 46/50\n",
      "153/153 [==============================] - 68s 447ms/step - loss: 0.0851 - accuracy: 0.9705 - val_loss: 0.1613 - val_accuracy: 0.9547\n",
      "Epoch 47/50\n",
      "153/153 [==============================] - 68s 442ms/step - loss: 0.0733 - accuracy: 0.9738 - val_loss: 0.1335 - val_accuracy: 0.9587\n",
      "Epoch 48/50\n",
      "153/153 [==============================] - 68s 442ms/step - loss: 0.0754 - accuracy: 0.9716 - val_loss: 0.1525 - val_accuracy: 0.9526\n",
      "Epoch 49/50\n",
      "153/153 [==============================] - 63s 414ms/step - loss: 0.0663 - accuracy: 0.9763 - val_loss: 0.1400 - val_accuracy: 0.9592\n",
      "Epoch 50/50\n",
      "153/153 [==============================] - 61s 402ms/step - loss: 0.0757 - accuracy: 0.9750 - val_loss: 0.1535 - val_accuracy: 0.9579\n"
     ]
    }
   ],
   "source": [
    "history2 = mvnModel.fit(X_train, y_train_encoded, batch_size=64, epochs=50, validation_data=(X_test, y_test_encoded), verbose=1)"
   ]
  },
  {
   "cell_type": "code",
   "execution_count": 13,
   "id": "6a265e02",
   "metadata": {
    "scrolled": true
   },
   "outputs": [
    {
     "name": "stdout",
     "output_type": "stream",
     "text": [
      "77/77 [==============================] - 10s 131ms/step - loss: 0.1535 - accuracy: 0.9579\n",
      "Test Accuracy: 0.9579248428344727\n"
     ]
    }
   ],
   "source": [
    "test_loss, test_acc = mvnModel.evaluate(X_test, y_test_encoded)\n",
    "print(f'Test Accuracy: {test_acc}')"
   ]
  },
  {
   "cell_type": "code",
   "execution_count": 14,
   "id": "2988404c",
   "metadata": {},
   "outputs": [
    {
     "name": "stdout",
     "output_type": "stream",
     "text": [
      "77/77 [==============================] - 13s 144ms/step\n",
      "                                  precision    recall  f1-score   support\n",
      "\n",
      "                          a_Good       0.99      0.90      0.94       294\n",
      "                      b_Moderate       0.88      0.97      0.93       316\n",
      "c_Unhealthy_for_Sensitive_Groups       0.96      0.93      0.95       583\n",
      "                     d_Unhealthy       0.97      0.97      0.97       533\n",
      "                e_Very_Unhealthy       0.96      0.98      0.97       442\n",
      "                        f_Severe       0.98      0.99      0.99       280\n",
      "\n",
      "                        accuracy                           0.96      2448\n",
      "                       macro avg       0.96      0.96      0.96      2448\n",
      "                    weighted avg       0.96      0.96      0.96      2448\n",
      "\n"
     ]
    }
   ],
   "source": [
    "mvnPredictions = mvnModel.predict(X_test)\n",
    "mvn_predicted_labels = np.argmax(mvnPredictions, axis=1)\n",
    "\n",
    "mvn_predicted_labels = label_encoder.inverse_transform(mvn_predicted_labels)\n",
    "true_labels = label_encoder.inverse_transform(y_test)\n",
    "\n",
    "print(classification_report(true_labels, mvn_predicted_labels))"
   ]
  },
  {
   "cell_type": "code",
   "execution_count": null,
   "id": "05226e2f",
   "metadata": {},
   "outputs": [],
   "source": []
  },
  {
   "cell_type": "markdown",
   "id": "a16806fa",
   "metadata": {},
   "source": [
    "### Using NASNetMobile"
   ]
  },
  {
   "cell_type": "code",
   "execution_count": 10,
   "id": "8a0caa1c",
   "metadata": {},
   "outputs": [
    {
     "name": "stdout",
     "output_type": "stream",
     "text": [
      "WARNING:tensorflow:From C:\\Users\\nandi\\anaconda3\\Lib\\site-packages\\keras\\src\\backend.py:1398: The name tf.executing_eagerly_outside_functions is deprecated. Please use tf.compat.v1.executing_eagerly_outside_functions instead.\n",
      "\n",
      "WARNING:tensorflow:From C:\\Users\\nandi\\anaconda3\\Lib\\site-packages\\keras\\src\\layers\\normalization\\batch_normalization.py:979: The name tf.nn.fused_batch_norm is deprecated. Please use tf.compat.v1.nn.fused_batch_norm instead.\n",
      "\n",
      "Downloading data from https://storage.googleapis.com/tensorflow/keras-applications/nasnet/NASNet-mobile-no-top.h5\n",
      "19993432/19993432 [==============================] - 4s 0us/step\n"
     ]
    }
   ],
   "source": [
    "dnBaseModel = NASNetMobile(weights='imagenet', include_top=False, input_shape=(224, 224, 3))\n",
    "\n",
    "for layer in dnBaseModel.layers:\n",
    "    layer.trainable = False\n",
    "\n",
    "dnModel = Sequential()\n",
    "\n",
    "dnModel.add(dnBaseModel)\n",
    "dnModel.add(GlobalAveragePooling2D())\n",
    "dnModel.add(Flatten())\n",
    "dnModel.add(Dense(128, activation='relu'))\n",
    "dnModel.add(BatchNormalization())\n",
    "dnModel.add(Dropout(0.5))\n",
    "dnModel.add(Dense(numberOfClasses, activation='softmax'))"
   ]
  },
  {
   "cell_type": "code",
   "execution_count": 11,
   "id": "04642889",
   "metadata": {
    "scrolled": false
   },
   "outputs": [
    {
     "name": "stdout",
     "output_type": "stream",
     "text": [
      "WARNING:tensorflow:From C:\\Users\\nandi\\anaconda3\\Lib\\site-packages\\keras\\src\\optimizers\\__init__.py:309: The name tf.train.Optimizer is deprecated. Please use tf.compat.v1.train.Optimizer instead.\n",
      "\n",
      "Model: \"sequential\"\n",
      "_________________________________________________________________\n",
      " Layer (type)                Output Shape              Param #   \n",
      "=================================================================\n",
      " NASNet (Functional)         (None, 7, 7, 1056)        4269716   \n",
      "                                                                 \n",
      " global_average_pooling2d (  (None, 1056)              0         \n",
      " GlobalAveragePooling2D)                                         \n",
      "                                                                 \n",
      " flatten (Flatten)           (None, 1056)              0         \n",
      "                                                                 \n",
      " dense (Dense)               (None, 128)               135296    \n",
      "                                                                 \n",
      " batch_normalization (Batch  (None, 128)               512       \n",
      " Normalization)                                                  \n",
      "                                                                 \n",
      " dropout (Dropout)           (None, 128)               0         \n",
      "                                                                 \n",
      " dense_1 (Dense)             (None, 6)                 774       \n",
      "                                                                 \n",
      "=================================================================\n",
      "Total params: 4406298 (16.81 MB)\n",
      "Trainable params: 136326 (532.52 KB)\n",
      "Non-trainable params: 4269972 (16.29 MB)\n",
      "_________________________________________________________________\n"
     ]
    }
   ],
   "source": [
    "dnModel.compile(optimizer='adam', loss='categorical_crossentropy', metrics=['accuracy'])\n",
    "dnModel.summary()"
   ]
  },
  {
   "cell_type": "code",
   "execution_count": 12,
   "id": "35523727",
   "metadata": {
    "scrolled": true
   },
   "outputs": [
    {
     "name": "stdout",
     "output_type": "stream",
     "text": [
      "Epoch 1/50\n",
      "WARNING:tensorflow:From C:\\Users\\nandi\\anaconda3\\Lib\\site-packages\\keras\\src\\utils\\tf_utils.py:492: The name tf.ragged.RaggedTensorValue is deprecated. Please use tf.compat.v1.ragged.RaggedTensorValue instead.\n",
      "\n",
      "WARNING:tensorflow:From C:\\Users\\nandi\\anaconda3\\Lib\\site-packages\\keras\\src\\engine\\base_layer_utils.py:384: The name tf.executing_eagerly_outside_functions is deprecated. Please use tf.compat.v1.executing_eagerly_outside_functions instead.\n",
      "\n",
      "153/153 [==============================] - 105s 584ms/step - loss: 1.2029 - accuracy: 0.5718 - val_loss: 0.8174 - val_accuracy: 0.7083\n",
      "Epoch 2/50\n",
      "153/153 [==============================] - 91s 595ms/step - loss: 0.7057 - accuracy: 0.7340 - val_loss: 0.5844 - val_accuracy: 0.7900\n",
      "Epoch 3/50\n",
      "153/153 [==============================] - 81s 527ms/step - loss: 0.5661 - accuracy: 0.7897 - val_loss: 0.5166 - val_accuracy: 0.8027\n",
      "Epoch 4/50\n",
      "153/153 [==============================] - 68s 447ms/step - loss: 0.4863 - accuracy: 0.8183 - val_loss: 0.4408 - val_accuracy: 0.8476\n",
      "Epoch 5/50\n",
      "153/153 [==============================] - 71s 468ms/step - loss: 0.4326 - accuracy: 0.8392 - val_loss: 0.4035 - val_accuracy: 0.8554\n",
      "Epoch 6/50\n",
      "153/153 [==============================] - 74s 482ms/step - loss: 0.4060 - accuracy: 0.8503 - val_loss: 0.4090 - val_accuracy: 0.8444\n",
      "Epoch 7/50\n",
      "153/153 [==============================] - 77s 502ms/step - loss: 0.3609 - accuracy: 0.8688 - val_loss: 0.3497 - val_accuracy: 0.8705\n",
      "Epoch 8/50\n",
      "153/153 [==============================] - 73s 475ms/step - loss: 0.3311 - accuracy: 0.8768 - val_loss: 0.3669 - val_accuracy: 0.8672\n",
      "Epoch 9/50\n",
      "153/153 [==============================] - 74s 484ms/step - loss: 0.3306 - accuracy: 0.8806 - val_loss: 0.3286 - val_accuracy: 0.8775\n",
      "Epoch 10/50\n",
      "153/153 [==============================] - 74s 482ms/step - loss: 0.3128 - accuracy: 0.8864 - val_loss: 0.3404 - val_accuracy: 0.8779\n",
      "Epoch 11/50\n",
      "153/153 [==============================] - 78s 512ms/step - loss: 0.2985 - accuracy: 0.8921 - val_loss: 0.3872 - val_accuracy: 0.8607\n",
      "Epoch 12/50\n",
      "153/153 [==============================] - 78s 513ms/step - loss: 0.2907 - accuracy: 0.8952 - val_loss: 0.4712 - val_accuracy: 0.8354\n",
      "Epoch 13/50\n",
      "153/153 [==============================] - 76s 497ms/step - loss: 0.2748 - accuracy: 0.9025 - val_loss: 0.3523 - val_accuracy: 0.8750\n",
      "Epoch 14/50\n",
      "153/153 [==============================] - 76s 498ms/step - loss: 0.2807 - accuracy: 0.8959 - val_loss: 0.3092 - val_accuracy: 0.8926\n",
      "Epoch 15/50\n",
      "153/153 [==============================] - 74s 487ms/step - loss: 0.2694 - accuracy: 0.9019 - val_loss: 0.3449 - val_accuracy: 0.8770\n",
      "Epoch 16/50\n",
      "153/153 [==============================] - 77s 504ms/step - loss: 0.2540 - accuracy: 0.9047 - val_loss: 0.2668 - val_accuracy: 0.9028\n",
      "Epoch 17/50\n",
      "153/153 [==============================] - 80s 521ms/step - loss: 0.2483 - accuracy: 0.9085 - val_loss: 0.3124 - val_accuracy: 0.8954\n",
      "Epoch 18/50\n",
      "153/153 [==============================] - 80s 526ms/step - loss: 0.2567 - accuracy: 0.9073 - val_loss: 0.2670 - val_accuracy: 0.9024\n",
      "Epoch 19/50\n",
      "153/153 [==============================] - 76s 496ms/step - loss: 0.2327 - accuracy: 0.9133 - val_loss: 0.2507 - val_accuracy: 0.9085\n",
      "Epoch 20/50\n",
      "153/153 [==============================] - 76s 498ms/step - loss: 0.2429 - accuracy: 0.9109 - val_loss: 0.3338 - val_accuracy: 0.8864\n",
      "Epoch 21/50\n",
      "153/153 [==============================] - 71s 466ms/step - loss: 0.2387 - accuracy: 0.9104 - val_loss: 0.3093 - val_accuracy: 0.8885\n",
      "Epoch 22/50\n",
      "153/153 [==============================] - 71s 465ms/step - loss: 0.2463 - accuracy: 0.9074 - val_loss: 0.2718 - val_accuracy: 0.9069\n",
      "Epoch 23/50\n",
      "153/153 [==============================] - 73s 476ms/step - loss: 0.2422 - accuracy: 0.9131 - val_loss: 0.2591 - val_accuracy: 0.9097\n",
      "Epoch 24/50\n",
      "153/153 [==============================] - 71s 464ms/step - loss: 0.2138 - accuracy: 0.9214 - val_loss: 0.3380 - val_accuracy: 0.8909\n",
      "Epoch 25/50\n",
      "153/153 [==============================] - 74s 483ms/step - loss: 0.2173 - accuracy: 0.9175 - val_loss: 0.2470 - val_accuracy: 0.9134\n",
      "Epoch 26/50\n",
      "153/153 [==============================] - 76s 495ms/step - loss: 0.2125 - accuracy: 0.9210 - val_loss: 0.2445 - val_accuracy: 0.9150\n",
      "Epoch 27/50\n",
      "153/153 [==============================] - 75s 494ms/step - loss: 0.2227 - accuracy: 0.9180 - val_loss: 0.2741 - val_accuracy: 0.9036\n",
      "Epoch 28/50\n",
      "153/153 [==============================] - 74s 481ms/step - loss: 0.2037 - accuracy: 0.9259 - val_loss: 0.2419 - val_accuracy: 0.9179\n",
      "Epoch 29/50\n",
      "153/153 [==============================] - 75s 493ms/step - loss: 0.1888 - accuracy: 0.9312 - val_loss: 0.2368 - val_accuracy: 0.9195\n",
      "Epoch 30/50\n",
      "153/153 [==============================] - 77s 505ms/step - loss: 0.1895 - accuracy: 0.9265 - val_loss: 0.2254 - val_accuracy: 0.9240\n",
      "Epoch 31/50\n",
      "153/153 [==============================] - 75s 494ms/step - loss: 0.1925 - accuracy: 0.9306 - val_loss: 0.2920 - val_accuracy: 0.8971\n",
      "Epoch 32/50\n",
      "153/153 [==============================] - 77s 502ms/step - loss: 0.1785 - accuracy: 0.9340 - val_loss: 0.2490 - val_accuracy: 0.9187\n",
      "Epoch 33/50\n",
      "153/153 [==============================] - 76s 495ms/step - loss: 0.1855 - accuracy: 0.9340 - val_loss: 0.2568 - val_accuracy: 0.9171\n",
      "Epoch 34/50\n",
      "153/153 [==============================] - 76s 499ms/step - loss: 0.1957 - accuracy: 0.9281 - val_loss: 0.2806 - val_accuracy: 0.9101\n",
      "Epoch 35/50\n",
      "153/153 [==============================] - 75s 488ms/step - loss: 0.1800 - accuracy: 0.9367 - val_loss: 0.2333 - val_accuracy: 0.9175\n",
      "Epoch 36/50\n",
      "153/153 [==============================] - 77s 504ms/step - loss: 0.1743 - accuracy: 0.9342 - val_loss: 0.2641 - val_accuracy: 0.9187\n",
      "Epoch 37/50\n",
      "153/153 [==============================] - 76s 497ms/step - loss: 0.1747 - accuracy: 0.9375 - val_loss: 0.2737 - val_accuracy: 0.9105\n",
      "Epoch 38/50\n",
      "153/153 [==============================] - 76s 498ms/step - loss: 0.1790 - accuracy: 0.9346 - val_loss: 0.3361 - val_accuracy: 0.9105\n",
      "Epoch 39/50\n",
      "153/153 [==============================] - 76s 500ms/step - loss: 0.1708 - accuracy: 0.9386 - val_loss: 0.2554 - val_accuracy: 0.9195\n",
      "Epoch 40/50\n",
      "153/153 [==============================] - 75s 491ms/step - loss: 0.1767 - accuracy: 0.9362 - val_loss: 0.2449 - val_accuracy: 0.9134\n",
      "Epoch 41/50\n",
      "153/153 [==============================] - 79s 516ms/step - loss: 0.1715 - accuracy: 0.9392 - val_loss: 0.2562 - val_accuracy: 0.9118\n",
      "Epoch 42/50\n",
      "153/153 [==============================] - 78s 511ms/step - loss: 0.1634 - accuracy: 0.9419 - val_loss: 0.2669 - val_accuracy: 0.9126\n",
      "Epoch 43/50\n",
      "153/153 [==============================] - 76s 498ms/step - loss: 0.1799 - accuracy: 0.9343 - val_loss: 0.2508 - val_accuracy: 0.9109\n",
      "Epoch 44/50\n",
      "153/153 [==============================] - 76s 498ms/step - loss: 0.1655 - accuracy: 0.9392 - val_loss: 0.2488 - val_accuracy: 0.9199\n",
      "Epoch 45/50\n",
      "153/153 [==============================] - 77s 501ms/step - loss: 0.1579 - accuracy: 0.9454 - val_loss: 0.2888 - val_accuracy: 0.9146\n",
      "Epoch 46/50\n",
      "153/153 [==============================] - 76s 497ms/step - loss: 0.1596 - accuracy: 0.9432 - val_loss: 0.2944 - val_accuracy: 0.9105\n",
      "Epoch 47/50\n",
      "153/153 [==============================] - 76s 495ms/step - loss: 0.1486 - accuracy: 0.9454 - val_loss: 0.2311 - val_accuracy: 0.9244\n",
      "Epoch 48/50\n",
      "153/153 [==============================] - 75s 490ms/step - loss: 0.1499 - accuracy: 0.9466 - val_loss: 0.2477 - val_accuracy: 0.9228\n",
      "Epoch 49/50\n",
      "153/153 [==============================] - 74s 484ms/step - loss: 0.1408 - accuracy: 0.9488 - val_loss: 0.2184 - val_accuracy: 0.9285\n",
      "Epoch 50/50\n",
      "153/153 [==============================] - 74s 484ms/step - loss: 0.1441 - accuracy: 0.9482 - val_loss: 0.2633 - val_accuracy: 0.9212\n"
     ]
    }
   ],
   "source": [
    "history3 = dnModel.fit(X_train, y_train_encoded, batch_size=64, epochs=50, validation_data=(X_test, y_test_encoded), verbose=1)"
   ]
  },
  {
   "cell_type": "code",
   "execution_count": 13,
   "id": "b359e6db",
   "metadata": {},
   "outputs": [
    {
     "name": "stdout",
     "output_type": "stream",
     "text": [
      "77/77 [==============================] - 14s 186ms/step - loss: 0.2633 - accuracy: 0.9212\n",
      "Test Accuracy: 0.921160101890564\n"
     ]
    }
   ],
   "source": [
    "test_loss, test_acc = dnModel.evaluate(X_test, y_test_encoded)\n",
    "print(f'Test Accuracy: {test_acc}')"
   ]
  },
  {
   "cell_type": "code",
   "execution_count": 14,
   "id": "c77cda29",
   "metadata": {},
   "outputs": [
    {
     "name": "stdout",
     "output_type": "stream",
     "text": [
      "77/77 [==============================] - 18s 180ms/step\n",
      "                                  precision    recall  f1-score   support\n",
      "\n",
      "                          a_Good       0.89      0.85      0.87       294\n",
      "                      b_Moderate       0.90      0.86      0.88       316\n",
      "c_Unhealthy_for_Sensitive_Groups       0.87      0.96      0.91       583\n",
      "                     d_Unhealthy       0.95      0.91      0.93       533\n",
      "                e_Very_Unhealthy       0.97      0.94      0.96       442\n",
      "                        f_Severe       0.97      0.96      0.97       280\n",
      "\n",
      "                        accuracy                           0.92      2448\n",
      "                       macro avg       0.92      0.92      0.92      2448\n",
      "                    weighted avg       0.92      0.92      0.92      2448\n",
      "\n"
     ]
    }
   ],
   "source": [
    "dnPredictions = dnModel.predict(X_test)\n",
    "dn_predicted_labels = np.argmax(dnPredictions, axis=1)\n",
    "\n",
    "dn_predicted_labels = label_encoder.inverse_transform(dn_predicted_labels)\n",
    "true_labels = label_encoder.inverse_transform(y_test)\n",
    "\n",
    "print(classification_report(true_labels, dn_predicted_labels))"
   ]
  },
  {
   "cell_type": "code",
   "execution_count": null,
   "id": "747ee707",
   "metadata": {},
   "outputs": [],
   "source": []
  }
 ],
 "metadata": {
  "kernelspec": {
   "display_name": "Python 3 (ipykernel)",
   "language": "python",
   "name": "python3"
  },
  "language_info": {
   "codemirror_mode": {
    "name": "ipython",
    "version": 3
   },
   "file_extension": ".py",
   "mimetype": "text/x-python",
   "name": "python",
   "nbconvert_exporter": "python",
   "pygments_lexer": "ipython3",
   "version": "3.11.5"
  }
 },
 "nbformat": 4,
 "nbformat_minor": 5
}
